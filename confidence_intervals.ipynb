{
 "cells": [
  {
   "cell_type": "markdown",
   "metadata": {},
   "source": [
    "***\n",
    "**Computing Confidence Intervals in Python**\n",
    "***"
   ]
  },
  {
   "cell_type": "markdown",
   "metadata": {},
   "source": [
    "Question:\n",
    "Ten randomly selected tablets, of a dosage form with labelled potency 100mg, were assayed according to a quality control specification, goving the results below (in mg):\n",
    "\n",
    "101.8, 102.6, 99.8, 104.9, 103.8, 104.5, 100.7, 106.3, 100.6, 105.0\n",
    "\n",
    "- Calculate a 95% confidence interval for the mean potency of the batch from which the sample came"
   ]
  },
  {
   "cell_type": "markdown",
   "metadata": {},
   "source": [
    "Some notes\n",
    "***\n",
    "- We took a small sample from the population\n",
    "- We have the potency results of the sample\n",
    "- The mean potency changes from sample to sample, so we can't precisely tell what the mean potency of the population is from the small sample we have.\n",
    "- Because we don't have access to the entire population, we use the sample that we have to estimate what the potency of the entire population is\n",
    "- The Confidence Interval helps with this, as it provides an estimate within which the population mean potency will lie for (confidence level) (95% in this case), of the samples taken\n",
    "***\n",
    "Because our sample contains only 10 values, we shall use the t-interval instead of the z-interval. z-interval is used typically when the sample size is greater than 20 or 30"
   ]
  },
  {
   "cell_type": "code",
   "execution_count": 2,
   "metadata": {},
   "outputs": [],
   "source": [
    "import numpy as np\n",
    "import pandas as pd\n",
    "import matplotlib.pyplot as plt\n",
    "import scipy.stats as stats"
   ]
  },
  {
   "cell_type": "code",
   "execution_count": 4,
   "metadata": {},
   "outputs": [],
   "source": [
    "sample = np.array([101.8, 102.6, 99.8, 104.9, 103.8, 104.5, 100.7, 106.3, 100.6, 105.0])"
   ]
  },
  {
   "cell_type": "code",
   "execution_count": 6,
   "metadata": {},
   "outputs": [],
   "source": [
    "alpha = 0.95 # 95% confidence level\n",
    "df = len(sample) - 1 # degrees of freedom = n -1 (sample size -1)\n",
    "sample_mean = np.mean(sample)\n",
    "sample_std = np.std(sample)\n",
    "n = len(sample)\n",
    "\n",
    "# standard error\n",
    "standard_error = sample_std / np.sqrt(n)  # formula for standard error = sample std / sqrt(n)\n",
    "\n",
    "# now we compute the 95% confidence interval of the population mean:\n",
    "confidence_interval = stats.t.interval(alpha,df,loc=sample_mean,scale=standard_error)\n"
   ]
  },
  {
   "cell_type": "code",
   "execution_count": 7,
   "metadata": {},
   "outputs": [
    {
     "data": {
      "text/plain": [
       "(101.49468780412786, 104.50531219587214)"
      ]
     },
     "execution_count": 7,
     "metadata": {},
     "output_type": "execute_result"
    }
   ],
   "source": [
    "confidence_interval"
   ]
  },
  {
   "cell_type": "markdown",
   "metadata": {},
   "source": [
    "**Interpretation of this result**: If we took many samples of size n, and found the confidence interval in each case, 95% (our confidence level) of these intervals (101.49 to 104.5) will contain the true value of the population mean.\n",
    "\n",
    "so 95% of the time, the true population mean lies between 101.49 and 104.5"
   ]
  },
  {
   "cell_type": "markdown",
   "metadata": {},
   "source": [
    "**What if we took the 99% confidence interval:**"
   ]
  },
  {
   "cell_type": "code",
   "execution_count": 8,
   "metadata": {},
   "outputs": [],
   "source": [
    "confidence_interval2 = stats.t.interval(0.99, df, loc = sample_mean, scale = standard_error)"
   ]
  },
  {
   "cell_type": "code",
   "execution_count": 9,
   "metadata": {},
   "outputs": [
    {
     "data": {
      "text/plain": [
       "(100.83745481716875, 105.16254518283125)"
      ]
     },
     "execution_count": 9,
     "metadata": {},
     "output_type": "execute_result"
    }
   ],
   "source": [
    "confidence_interval2"
   ]
  },
  {
   "cell_type": "markdown",
   "metadata": {},
   "source": [
    "With an increase in the confidence level, the confidence interval becomes wider. Meaning the certainty reduces."
   ]
  },
  {
   "cell_type": "code",
   "execution_count": null,
   "metadata": {},
   "outputs": [],
   "source": []
  }
 ],
 "metadata": {
  "kernelspec": {
   "display_name": "Python 3",
   "language": "python",
   "name": "python3"
  },
  "language_info": {
   "codemirror_mode": {
    "name": "ipython",
    "version": 3
   },
   "file_extension": ".py",
   "mimetype": "text/x-python",
   "name": "python",
   "nbconvert_exporter": "python",
   "pygments_lexer": "ipython3",
   "version": "3.12.5"
  }
 },
 "nbformat": 4,
 "nbformat_minor": 2
}
