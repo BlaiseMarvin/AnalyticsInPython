{
 "cells": [
  {
   "cell_type": "markdown",
   "metadata": {},
   "source": [
    "***\n",
    "**Sample t-test**\n",
    "***\n",
    "Some definitions: A t-test is an inferential statistic used to determine if there is a significant difference between the means of 2 groups and how they are related.\n",
    "The t-test is used for hypothesis testing in statistics and uses the t-statistic, the distribution values, and the degrees of freedom to determine the statistical significance. \n",
    "\n",
    "***\n",
    "The t-test is a type of hypothesis test used to determine if there is a significant difference between the sample mean and a known hypothesized population mean, or between the means of two groups. The t-test is based on the t-distribution.\n",
    "\n",
    "***\n",
    "\n",
    "```mermaid\n",
    "graph TD;\n",
    "\n",
    "Define a threshold value (alpha) --> Paired;\n",
    "Paired --> Normality test on sample differences;\n",
    "Paired --> Normality test on both samples;\n",
    "Normality test on sample differences --> Do sample differences follow a normal distribution;\n",
    "Do sample differences follow a normal distribution --> Paired two sample t-test;\n",
    "Do sample differences follow a normal distribution --> Wilcoxon t-test;\n",
    "Normality test on both samples --> Do both samples follow a normal distribution;\n",
    "Do both samples follow a normal distribution --> Independent two sample t-test;\n",
    "Do both samples follow a normal distribution --> Mann Whitney test;\n",
    "```"
   ]
  },
  {
   "cell_type": "markdown",
   "metadata": {},
   "source": []
  }
 ],
 "metadata": {
  "language_info": {
   "name": "python"
  }
 },
 "nbformat": 4,
 "nbformat_minor": 2
}
