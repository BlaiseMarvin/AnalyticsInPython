{
 "cells": [
  {
   "cell_type": "markdown",
   "metadata": {},
   "source": [
    "***\n",
    "**Sample t-test**\n",
    "***\n",
    "Some definitions: A t-test is an inferential statistic used to determine if there is a significant difference between the means of 2 groups and how they are related.\n",
    "The t-test is used for hypothesis testing in statistics and uses the t-statistic, the distribution values, and the degrees of freedom to determine the statistical significance. \n",
    "\n",
    "***\n",
    "The t-test is a type of hypothesis test used to determine if there is a significant difference between the sample mean and a known hypothesized population mean, or between the means of two groups. The t-test is based on the t-distribution.\n",
    "\n",
    "***"
   ]
  },
  {
   "cell_type": "markdown",
   "metadata": {},
   "source": [
    "![t_test](support_files/t-test.png)"
   ]
  },
  {
   "cell_type": "markdown",
   "metadata": {},
   "source": []
  }
 ],
 "metadata": {
  "kernelspec": {
   "display_name": "Python 3",
   "language": "python",
   "name": "python3"
  },
  "language_info": {
   "name": "python",
   "version": "3.12.5"
  }
 },
 "nbformat": 4,
 "nbformat_minor": 2
}
