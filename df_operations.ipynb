{
 "cells": [
  {
   "cell_type": "code",
   "execution_count": 1,
   "metadata": {},
   "outputs": [],
   "source": [
    "import numpy as np\n",
    "import pandas as pd\n",
    "import matplotlib.pyplot as plt"
   ]
  },
  {
   "cell_type": "code",
   "execution_count": 18,
   "metadata": {},
   "outputs": [],
   "source": [
    "from scipy import stats"
   ]
  },
  {
   "cell_type": "code",
   "execution_count": 2,
   "metadata": {},
   "outputs": [],
   "source": [
    "bank = pd.read_csv('Bank.csv')"
   ]
  },
  {
   "cell_type": "markdown",
   "metadata": {},
   "source": [
    "#### The numpy where method:\n",
    "***where(logical condition, value if true, value if false)***"
   ]
  },
  {
   "cell_type": "code",
   "execution_count": 4,
   "metadata": {},
   "outputs": [],
   "source": [
    "bank['GenderDummy_F'] = np.where(bank['Gender'] == 'Female',1,0)"
   ]
  },
  {
   "cell_type": "code",
   "execution_count": 5,
   "metadata": {},
   "outputs": [
    {
     "data": {
      "text/html": [
       "<div>\n",
       "<style scoped>\n",
       "    .dataframe tbody tr th:only-of-type {\n",
       "        vertical-align: middle;\n",
       "    }\n",
       "\n",
       "    .dataframe tbody tr th {\n",
       "        vertical-align: top;\n",
       "    }\n",
       "\n",
       "    .dataframe thead th {\n",
       "        text-align: right;\n",
       "    }\n",
       "</style>\n",
       "<table border=\"1\" class=\"dataframe\">\n",
       "  <thead>\n",
       "    <tr style=\"text-align: right;\">\n",
       "      <th></th>\n",
       "      <th>Employee</th>\n",
       "      <th>EducLev</th>\n",
       "      <th>JobGrade</th>\n",
       "      <th>YrHired</th>\n",
       "      <th>YrBorn</th>\n",
       "      <th>Gender</th>\n",
       "      <th>YrsPrior</th>\n",
       "      <th>PCJob</th>\n",
       "      <th>Salary</th>\n",
       "      <th>Mgmt</th>\n",
       "      <th>GenderDummy_F</th>\n",
       "    </tr>\n",
       "  </thead>\n",
       "  <tbody>\n",
       "    <tr>\n",
       "      <th>0</th>\n",
       "      <td>1</td>\n",
       "      <td>3</td>\n",
       "      <td>1</td>\n",
       "      <td>92</td>\n",
       "      <td>69</td>\n",
       "      <td>Male</td>\n",
       "      <td>1</td>\n",
       "      <td>No</td>\n",
       "      <td>32.0</td>\n",
       "      <td>Non-Mgmt</td>\n",
       "      <td>0</td>\n",
       "    </tr>\n",
       "    <tr>\n",
       "      <th>1</th>\n",
       "      <td>2</td>\n",
       "      <td>1</td>\n",
       "      <td>1</td>\n",
       "      <td>81</td>\n",
       "      <td>57</td>\n",
       "      <td>Female</td>\n",
       "      <td>1</td>\n",
       "      <td>No</td>\n",
       "      <td>39.1</td>\n",
       "      <td>Non-Mgmt</td>\n",
       "      <td>1</td>\n",
       "    </tr>\n",
       "    <tr>\n",
       "      <th>2</th>\n",
       "      <td>3</td>\n",
       "      <td>1</td>\n",
       "      <td>1</td>\n",
       "      <td>83</td>\n",
       "      <td>60</td>\n",
       "      <td>Female</td>\n",
       "      <td>0</td>\n",
       "      <td>No</td>\n",
       "      <td>33.2</td>\n",
       "      <td>Non-Mgmt</td>\n",
       "      <td>1</td>\n",
       "    </tr>\n",
       "    <tr>\n",
       "      <th>3</th>\n",
       "      <td>4</td>\n",
       "      <td>2</td>\n",
       "      <td>1</td>\n",
       "      <td>87</td>\n",
       "      <td>55</td>\n",
       "      <td>Female</td>\n",
       "      <td>7</td>\n",
       "      <td>No</td>\n",
       "      <td>30.6</td>\n",
       "      <td>Non-Mgmt</td>\n",
       "      <td>1</td>\n",
       "    </tr>\n",
       "    <tr>\n",
       "      <th>4</th>\n",
       "      <td>5</td>\n",
       "      <td>3</td>\n",
       "      <td>1</td>\n",
       "      <td>92</td>\n",
       "      <td>67</td>\n",
       "      <td>Male</td>\n",
       "      <td>0</td>\n",
       "      <td>No</td>\n",
       "      <td>29.0</td>\n",
       "      <td>Non-Mgmt</td>\n",
       "      <td>0</td>\n",
       "    </tr>\n",
       "  </tbody>\n",
       "</table>\n",
       "</div>"
      ],
      "text/plain": [
       "   Employee  EducLev  JobGrade  YrHired  YrBorn  Gender  YrsPrior PCJob  \\\n",
       "0         1        3         1       92      69    Male         1    No   \n",
       "1         2        1         1       81      57  Female         1    No   \n",
       "2         3        1         1       83      60  Female         0    No   \n",
       "3         4        2         1       87      55  Female         7    No   \n",
       "4         5        3         1       92      67    Male         0    No   \n",
       "\n",
       "   Salary      Mgmt  GenderDummy_F  \n",
       "0    32.0  Non-Mgmt              0  \n",
       "1    39.1  Non-Mgmt              1  \n",
       "2    33.2  Non-Mgmt              1  \n",
       "3    30.6  Non-Mgmt              1  \n",
       "4    29.0  Non-Mgmt              0  "
      ]
     },
     "execution_count": 5,
     "metadata": {},
     "output_type": "execute_result"
    }
   ],
   "source": [
    "bank.head()"
   ]
  },
  {
   "cell_type": "markdown",
   "metadata": {},
   "source": [
    "#### Applying a function:\n",
    "Pandas aslo has a special method - apply, which applies an expression to each element of the series object. Expression to each element of the series object."
   ]
  },
  {
   "cell_type": "code",
   "execution_count": 6,
   "metadata": {},
   "outputs": [],
   "source": [
    "def my_recode(gender):\n",
    "    if gender == 'Female':\n",
    "        return 1\n",
    "    else:\n",
    "        return 0"
   ]
  },
  {
   "cell_type": "code",
   "execution_count": 8,
   "metadata": {},
   "outputs": [
    {
     "data": {
      "text/plain": [
       "(1, 0)"
      ]
     },
     "execution_count": 8,
     "metadata": {},
     "output_type": "execute_result"
    }
   ],
   "source": [
    "my_recode(\"Female\"), my_recode(\"Male\")"
   ]
  },
  {
   "cell_type": "markdown",
   "metadata": {},
   "source": [
    "Now, we use the pandas apply(), method to call the function for each value of the Gender column:"
   ]
  },
  {
   "cell_type": "code",
   "execution_count": 9,
   "metadata": {},
   "outputs": [
    {
     "data": {
      "text/html": [
       "<div>\n",
       "<style scoped>\n",
       "    .dataframe tbody tr th:only-of-type {\n",
       "        vertical-align: middle;\n",
       "    }\n",
       "\n",
       "    .dataframe tbody tr th {\n",
       "        vertical-align: top;\n",
       "    }\n",
       "\n",
       "    .dataframe thead th {\n",
       "        text-align: right;\n",
       "    }\n",
       "</style>\n",
       "<table border=\"1\" class=\"dataframe\">\n",
       "  <thead>\n",
       "    <tr style=\"text-align: right;\">\n",
       "      <th></th>\n",
       "      <th>Employee</th>\n",
       "      <th>EducLev</th>\n",
       "      <th>JobGrade</th>\n",
       "      <th>YrHired</th>\n",
       "      <th>YrBorn</th>\n",
       "      <th>Gender</th>\n",
       "      <th>YrsPrior</th>\n",
       "      <th>PCJob</th>\n",
       "      <th>Salary</th>\n",
       "      <th>Mgmt</th>\n",
       "      <th>GenderDummy_F</th>\n",
       "    </tr>\n",
       "  </thead>\n",
       "  <tbody>\n",
       "    <tr>\n",
       "      <th>0</th>\n",
       "      <td>1</td>\n",
       "      <td>3</td>\n",
       "      <td>1</td>\n",
       "      <td>92</td>\n",
       "      <td>69</td>\n",
       "      <td>Male</td>\n",
       "      <td>1</td>\n",
       "      <td>No</td>\n",
       "      <td>32.0</td>\n",
       "      <td>Non-Mgmt</td>\n",
       "      <td>0</td>\n",
       "    </tr>\n",
       "    <tr>\n",
       "      <th>1</th>\n",
       "      <td>2</td>\n",
       "      <td>1</td>\n",
       "      <td>1</td>\n",
       "      <td>81</td>\n",
       "      <td>57</td>\n",
       "      <td>Female</td>\n",
       "      <td>1</td>\n",
       "      <td>No</td>\n",
       "      <td>39.1</td>\n",
       "      <td>Non-Mgmt</td>\n",
       "      <td>1</td>\n",
       "    </tr>\n",
       "    <tr>\n",
       "      <th>2</th>\n",
       "      <td>3</td>\n",
       "      <td>1</td>\n",
       "      <td>1</td>\n",
       "      <td>83</td>\n",
       "      <td>60</td>\n",
       "      <td>Female</td>\n",
       "      <td>0</td>\n",
       "      <td>No</td>\n",
       "      <td>33.2</td>\n",
       "      <td>Non-Mgmt</td>\n",
       "      <td>1</td>\n",
       "    </tr>\n",
       "    <tr>\n",
       "      <th>3</th>\n",
       "      <td>4</td>\n",
       "      <td>2</td>\n",
       "      <td>1</td>\n",
       "      <td>87</td>\n",
       "      <td>55</td>\n",
       "      <td>Female</td>\n",
       "      <td>7</td>\n",
       "      <td>No</td>\n",
       "      <td>30.6</td>\n",
       "      <td>Non-Mgmt</td>\n",
       "      <td>1</td>\n",
       "    </tr>\n",
       "    <tr>\n",
       "      <th>4</th>\n",
       "      <td>5</td>\n",
       "      <td>3</td>\n",
       "      <td>1</td>\n",
       "      <td>92</td>\n",
       "      <td>67</td>\n",
       "      <td>Male</td>\n",
       "      <td>0</td>\n",
       "      <td>No</td>\n",
       "      <td>29.0</td>\n",
       "      <td>Non-Mgmt</td>\n",
       "      <td>0</td>\n",
       "    </tr>\n",
       "  </tbody>\n",
       "</table>\n",
       "</div>"
      ],
      "text/plain": [
       "   Employee  EducLev  JobGrade  YrHired  YrBorn  Gender  YrsPrior PCJob  \\\n",
       "0         1        3         1       92      69    Male         1    No   \n",
       "1         2        1         1       81      57  Female         1    No   \n",
       "2         3        1         1       83      60  Female         0    No   \n",
       "3         4        2         1       87      55  Female         7    No   \n",
       "4         5        3         1       92      67    Male         0    No   \n",
       "\n",
       "   Salary      Mgmt  GenderDummy_F  \n",
       "0    32.0  Non-Mgmt              0  \n",
       "1    39.1  Non-Mgmt              1  \n",
       "2    33.2  Non-Mgmt              1  \n",
       "3    30.6  Non-Mgmt              1  \n",
       "4    29.0  Non-Mgmt              0  "
      ]
     },
     "execution_count": 9,
     "metadata": {},
     "output_type": "execute_result"
    }
   ],
   "source": [
    "bank['GenderDummy_F'] = bank['Gender'].apply(my_recode)\n",
    "bank.head()"
   ]
  },
  {
   "cell_type": "markdown",
   "metadata": {},
   "source": [
    "Applying a lambda function:\n",
    "A more elegant approach is to apply a lambda function in python. "
   ]
  },
  {
   "cell_type": "code",
   "execution_count": 10,
   "metadata": {},
   "outputs": [
    {
     "data": {
      "text/html": [
       "<div>\n",
       "<style scoped>\n",
       "    .dataframe tbody tr th:only-of-type {\n",
       "        vertical-align: middle;\n",
       "    }\n",
       "\n",
       "    .dataframe tbody tr th {\n",
       "        vertical-align: top;\n",
       "    }\n",
       "\n",
       "    .dataframe thead th {\n",
       "        text-align: right;\n",
       "    }\n",
       "</style>\n",
       "<table border=\"1\" class=\"dataframe\">\n",
       "  <thead>\n",
       "    <tr style=\"text-align: right;\">\n",
       "      <th></th>\n",
       "      <th>Employee</th>\n",
       "      <th>EducLev</th>\n",
       "      <th>JobGrade</th>\n",
       "      <th>YrHired</th>\n",
       "      <th>YrBorn</th>\n",
       "      <th>Gender</th>\n",
       "      <th>YrsPrior</th>\n",
       "      <th>PCJob</th>\n",
       "      <th>Salary</th>\n",
       "      <th>Mgmt</th>\n",
       "      <th>GenderDummy_F</th>\n",
       "    </tr>\n",
       "  </thead>\n",
       "  <tbody>\n",
       "    <tr>\n",
       "      <th>0</th>\n",
       "      <td>1</td>\n",
       "      <td>3</td>\n",
       "      <td>1</td>\n",
       "      <td>92</td>\n",
       "      <td>69</td>\n",
       "      <td>Male</td>\n",
       "      <td>1</td>\n",
       "      <td>No</td>\n",
       "      <td>32.0</td>\n",
       "      <td>Non-Mgmt</td>\n",
       "      <td>0</td>\n",
       "    </tr>\n",
       "    <tr>\n",
       "      <th>1</th>\n",
       "      <td>2</td>\n",
       "      <td>1</td>\n",
       "      <td>1</td>\n",
       "      <td>81</td>\n",
       "      <td>57</td>\n",
       "      <td>Female</td>\n",
       "      <td>1</td>\n",
       "      <td>No</td>\n",
       "      <td>39.1</td>\n",
       "      <td>Non-Mgmt</td>\n",
       "      <td>1</td>\n",
       "    </tr>\n",
       "    <tr>\n",
       "      <th>2</th>\n",
       "      <td>3</td>\n",
       "      <td>1</td>\n",
       "      <td>1</td>\n",
       "      <td>83</td>\n",
       "      <td>60</td>\n",
       "      <td>Female</td>\n",
       "      <td>0</td>\n",
       "      <td>No</td>\n",
       "      <td>33.2</td>\n",
       "      <td>Non-Mgmt</td>\n",
       "      <td>1</td>\n",
       "    </tr>\n",
       "    <tr>\n",
       "      <th>3</th>\n",
       "      <td>4</td>\n",
       "      <td>2</td>\n",
       "      <td>1</td>\n",
       "      <td>87</td>\n",
       "      <td>55</td>\n",
       "      <td>Female</td>\n",
       "      <td>7</td>\n",
       "      <td>No</td>\n",
       "      <td>30.6</td>\n",
       "      <td>Non-Mgmt</td>\n",
       "      <td>1</td>\n",
       "    </tr>\n",
       "    <tr>\n",
       "      <th>4</th>\n",
       "      <td>5</td>\n",
       "      <td>3</td>\n",
       "      <td>1</td>\n",
       "      <td>92</td>\n",
       "      <td>67</td>\n",
       "      <td>Male</td>\n",
       "      <td>0</td>\n",
       "      <td>No</td>\n",
       "      <td>29.0</td>\n",
       "      <td>Non-Mgmt</td>\n",
       "      <td>0</td>\n",
       "    </tr>\n",
       "  </tbody>\n",
       "</table>\n",
       "</div>"
      ],
      "text/plain": [
       "   Employee  EducLev  JobGrade  YrHired  YrBorn  Gender  YrsPrior PCJob  \\\n",
       "0         1        3         1       92      69    Male         1    No   \n",
       "1         2        1         1       81      57  Female         1    No   \n",
       "2         3        1         1       83      60  Female         0    No   \n",
       "3         4        2         1       87      55  Female         7    No   \n",
       "4         5        3         1       92      67    Male         0    No   \n",
       "\n",
       "   Salary      Mgmt  GenderDummy_F  \n",
       "0    32.0  Non-Mgmt              0  \n",
       "1    39.1  Non-Mgmt              1  \n",
       "2    33.2  Non-Mgmt              1  \n",
       "3    30.6  Non-Mgmt              1  \n",
       "4    29.0  Non-Mgmt              0  "
      ]
     },
     "execution_count": 10,
     "metadata": {},
     "output_type": "execute_result"
    }
   ],
   "source": [
    "bank['GenderDummy_F'] = bank['Gender'].apply(lambda x: 1 if x == 'Female' else 0)\n",
    "bank.head()"
   ]
  },
  {
   "cell_type": "markdown",
   "metadata": {},
   "source": [
    "Replacing values from a list:\n",
    "- pandas has a replace method that can take lists. For example, we could take a list of job grades (1-6) and a corresponding list of managerial status for each of the job grades."
   ]
  },
  {
   "cell_type": "code",
   "execution_count": 11,
   "metadata": {},
   "outputs": [
    {
     "data": {
      "text/plain": [
       "array([1, 2, 3, 4, 5, 6], dtype=int64)"
      ]
     },
     "execution_count": 11,
     "metadata": {},
     "output_type": "execute_result"
    }
   ],
   "source": [
    "bank['JobGrade'].unique()"
   ]
  },
  {
   "cell_type": "code",
   "execution_count": 12,
   "metadata": {},
   "outputs": [
    {
     "data": {
      "text/html": [
       "<div>\n",
       "<style scoped>\n",
       "    .dataframe tbody tr th:only-of-type {\n",
       "        vertical-align: middle;\n",
       "    }\n",
       "\n",
       "    .dataframe tbody tr th {\n",
       "        vertical-align: top;\n",
       "    }\n",
       "\n",
       "    .dataframe thead th {\n",
       "        text-align: right;\n",
       "    }\n",
       "</style>\n",
       "<table border=\"1\" class=\"dataframe\">\n",
       "  <thead>\n",
       "    <tr style=\"text-align: right;\">\n",
       "      <th></th>\n",
       "      <th>Employee</th>\n",
       "      <th>EducLev</th>\n",
       "      <th>JobGrade</th>\n",
       "      <th>YrHired</th>\n",
       "      <th>YrBorn</th>\n",
       "      <th>Gender</th>\n",
       "      <th>YrsPrior</th>\n",
       "      <th>PCJob</th>\n",
       "      <th>Salary</th>\n",
       "      <th>Mgmt</th>\n",
       "      <th>GenderDummy_F</th>\n",
       "      <th>Manager</th>\n",
       "    </tr>\n",
       "  </thead>\n",
       "  <tbody>\n",
       "    <tr>\n",
       "      <th>170</th>\n",
       "      <td>171</td>\n",
       "      <td>2</td>\n",
       "      <td>4</td>\n",
       "      <td>79</td>\n",
       "      <td>42</td>\n",
       "      <td>Female</td>\n",
       "      <td>1</td>\n",
       "      <td>No</td>\n",
       "      <td>45.5</td>\n",
       "      <td>Non-Mgmt</td>\n",
       "      <td>1</td>\n",
       "      <td>non-mgmt</td>\n",
       "    </tr>\n",
       "    <tr>\n",
       "      <th>171</th>\n",
       "      <td>172</td>\n",
       "      <td>3</td>\n",
       "      <td>4</td>\n",
       "      <td>84</td>\n",
       "      <td>58</td>\n",
       "      <td>Female</td>\n",
       "      <td>0</td>\n",
       "      <td>No</td>\n",
       "      <td>44.5</td>\n",
       "      <td>Non-Mgmt</td>\n",
       "      <td>1</td>\n",
       "      <td>non-mgmt</td>\n",
       "    </tr>\n",
       "    <tr>\n",
       "      <th>172</th>\n",
       "      <td>173</td>\n",
       "      <td>2</td>\n",
       "      <td>4</td>\n",
       "      <td>82</td>\n",
       "      <td>55</td>\n",
       "      <td>Female</td>\n",
       "      <td>2</td>\n",
       "      <td>No</td>\n",
       "      <td>51.2</td>\n",
       "      <td>Non-Mgmt</td>\n",
       "      <td>1</td>\n",
       "      <td>non-mgmt</td>\n",
       "    </tr>\n",
       "    <tr>\n",
       "      <th>173</th>\n",
       "      <td>174</td>\n",
       "      <td>5</td>\n",
       "      <td>5</td>\n",
       "      <td>88</td>\n",
       "      <td>61</td>\n",
       "      <td>Male</td>\n",
       "      <td>0</td>\n",
       "      <td>No</td>\n",
       "      <td>47.5</td>\n",
       "      <td>Mgmt</td>\n",
       "      <td>0</td>\n",
       "      <td>mgmt</td>\n",
       "    </tr>\n",
       "    <tr>\n",
       "      <th>174</th>\n",
       "      <td>175</td>\n",
       "      <td>5</td>\n",
       "      <td>5</td>\n",
       "      <td>87</td>\n",
       "      <td>58</td>\n",
       "      <td>Female</td>\n",
       "      <td>0</td>\n",
       "      <td>No</td>\n",
       "      <td>44.5</td>\n",
       "      <td>Mgmt</td>\n",
       "      <td>1</td>\n",
       "      <td>mgmt</td>\n",
       "    </tr>\n",
       "  </tbody>\n",
       "</table>\n",
       "</div>"
      ],
      "text/plain": [
       "     Employee  EducLev  JobGrade  YrHired  YrBorn  Gender  YrsPrior PCJob  \\\n",
       "170       171        2         4       79      42  Female         1    No   \n",
       "171       172        3         4       84      58  Female         0    No   \n",
       "172       173        2         4       82      55  Female         2    No   \n",
       "173       174        5         5       88      61    Male         0    No   \n",
       "174       175        5         5       87      58  Female         0    No   \n",
       "\n",
       "     Salary      Mgmt  GenderDummy_F   Manager  \n",
       "170    45.5  Non-Mgmt              1  non-mgmt  \n",
       "171    44.5  Non-Mgmt              1  non-mgmt  \n",
       "172    51.2  Non-Mgmt              1  non-mgmt  \n",
       "173    47.5      Mgmt              0      mgmt  \n",
       "174    44.5      Mgmt              1      mgmt  "
      ]
     },
     "execution_count": 12,
     "metadata": {},
     "output_type": "execute_result"
    }
   ],
   "source": [
    "grades = [1,2,3,4,5,6]\n",
    "status = ['non-mgmt','non-mgmt','non-mgmt','non-mgmt','mgmt','mgmt']\n",
    "\n",
    "bank['Manager'] = bank['JobGrade'].replace(grades,status)\n",
    "\n",
    "bank[170:175]"
   ]
  },
  {
   "cell_type": "code",
   "execution_count": 13,
   "metadata": {},
   "outputs": [
    {
     "name": "stderr",
     "output_type": "stream",
     "text": [
      "C:\\Users\\blais\\AppData\\Local\\Temp\\ipykernel_43132\\1731351841.py:4: FutureWarning: Downcasting behavior in `replace` is deprecated and will be removed in a future version. To retain the old behavior, explicitly call `result.infer_objects(copy=False)`. To opt-in to the future behavior, set `pd.set_option('future.no_silent_downcasting', True)`\n",
      "  bank['GenderDummy_F'] = bank['Gender'].replace(genders, dummy_vars)\n"
     ]
    },
    {
     "data": {
      "text/html": [
       "<div>\n",
       "<style scoped>\n",
       "    .dataframe tbody tr th:only-of-type {\n",
       "        vertical-align: middle;\n",
       "    }\n",
       "\n",
       "    .dataframe tbody tr th {\n",
       "        vertical-align: top;\n",
       "    }\n",
       "\n",
       "    .dataframe thead th {\n",
       "        text-align: right;\n",
       "    }\n",
       "</style>\n",
       "<table border=\"1\" class=\"dataframe\">\n",
       "  <thead>\n",
       "    <tr style=\"text-align: right;\">\n",
       "      <th></th>\n",
       "      <th>Employee</th>\n",
       "      <th>EducLev</th>\n",
       "      <th>JobGrade</th>\n",
       "      <th>YrHired</th>\n",
       "      <th>YrBorn</th>\n",
       "      <th>Gender</th>\n",
       "      <th>YrsPrior</th>\n",
       "      <th>PCJob</th>\n",
       "      <th>Salary</th>\n",
       "      <th>Mgmt</th>\n",
       "      <th>GenderDummy_F</th>\n",
       "      <th>Manager</th>\n",
       "    </tr>\n",
       "  </thead>\n",
       "  <tbody>\n",
       "    <tr>\n",
       "      <th>0</th>\n",
       "      <td>1</td>\n",
       "      <td>3</td>\n",
       "      <td>1</td>\n",
       "      <td>92</td>\n",
       "      <td>69</td>\n",
       "      <td>Male</td>\n",
       "      <td>1</td>\n",
       "      <td>No</td>\n",
       "      <td>32.0</td>\n",
       "      <td>Non-Mgmt</td>\n",
       "      <td>0</td>\n",
       "      <td>non-mgmt</td>\n",
       "    </tr>\n",
       "    <tr>\n",
       "      <th>1</th>\n",
       "      <td>2</td>\n",
       "      <td>1</td>\n",
       "      <td>1</td>\n",
       "      <td>81</td>\n",
       "      <td>57</td>\n",
       "      <td>Female</td>\n",
       "      <td>1</td>\n",
       "      <td>No</td>\n",
       "      <td>39.1</td>\n",
       "      <td>Non-Mgmt</td>\n",
       "      <td>1</td>\n",
       "      <td>non-mgmt</td>\n",
       "    </tr>\n",
       "    <tr>\n",
       "      <th>2</th>\n",
       "      <td>3</td>\n",
       "      <td>1</td>\n",
       "      <td>1</td>\n",
       "      <td>83</td>\n",
       "      <td>60</td>\n",
       "      <td>Female</td>\n",
       "      <td>0</td>\n",
       "      <td>No</td>\n",
       "      <td>33.2</td>\n",
       "      <td>Non-Mgmt</td>\n",
       "      <td>1</td>\n",
       "      <td>non-mgmt</td>\n",
       "    </tr>\n",
       "    <tr>\n",
       "      <th>3</th>\n",
       "      <td>4</td>\n",
       "      <td>2</td>\n",
       "      <td>1</td>\n",
       "      <td>87</td>\n",
       "      <td>55</td>\n",
       "      <td>Female</td>\n",
       "      <td>7</td>\n",
       "      <td>No</td>\n",
       "      <td>30.6</td>\n",
       "      <td>Non-Mgmt</td>\n",
       "      <td>1</td>\n",
       "      <td>non-mgmt</td>\n",
       "    </tr>\n",
       "    <tr>\n",
       "      <th>4</th>\n",
       "      <td>5</td>\n",
       "      <td>3</td>\n",
       "      <td>1</td>\n",
       "      <td>92</td>\n",
       "      <td>67</td>\n",
       "      <td>Male</td>\n",
       "      <td>0</td>\n",
       "      <td>No</td>\n",
       "      <td>29.0</td>\n",
       "      <td>Non-Mgmt</td>\n",
       "      <td>0</td>\n",
       "      <td>non-mgmt</td>\n",
       "    </tr>\n",
       "  </tbody>\n",
       "</table>\n",
       "</div>"
      ],
      "text/plain": [
       "   Employee  EducLev  JobGrade  YrHired  YrBorn  Gender  YrsPrior PCJob  \\\n",
       "0         1        3         1       92      69    Male         1    No   \n",
       "1         2        1         1       81      57  Female         1    No   \n",
       "2         3        1         1       83      60  Female         0    No   \n",
       "3         4        2         1       87      55  Female         7    No   \n",
       "4         5        3         1       92      67    Male         0    No   \n",
       "\n",
       "   Salary      Mgmt  GenderDummy_F   Manager  \n",
       "0    32.0  Non-Mgmt              0  non-mgmt  \n",
       "1    39.1  Non-Mgmt              1  non-mgmt  \n",
       "2    33.2  Non-Mgmt              1  non-mgmt  \n",
       "3    30.6  Non-Mgmt              1  non-mgmt  \n",
       "4    29.0  Non-Mgmt              0  non-mgmt  "
      ]
     },
     "execution_count": 13,
     "metadata": {},
     "output_type": "execute_result"
    }
   ],
   "source": [
    "genders = ['Female','Male']\n",
    "dummy_vars = [1,0]\n",
    "\n",
    "bank['GenderDummy_F'] = bank['Gender'].replace(genders, dummy_vars)\n",
    "bank.head()"
   ]
  },
  {
   "cell_type": "code",
   "execution_count": 14,
   "metadata": {},
   "outputs": [],
   "source": [
    "import seaborn as sns"
   ]
  },
  {
   "cell_type": "markdown",
   "metadata": {},
   "source": [
    "#### Logging Variables:"
   ]
  },
  {
   "cell_type": "markdown",
   "metadata": {},
   "source": [
    "We occasionally want to transform a numerical column in order to increase the linearity of our models. We can use the numpy log() function which returns the natural (base e) logarithm."
   ]
  },
  {
   "cell_type": "code",
   "execution_count": 15,
   "metadata": {},
   "outputs": [
    {
     "data": {
      "text/plain": [
       "<Axes: xlabel='Salary', ylabel='Count'>"
      ]
     },
     "execution_count": 15,
     "metadata": {},
     "output_type": "execute_result"
    },
    {
     "data": {
      "image/png": "[encoded data removed]",
      "text/plain": [
       "<Figure size 640x480 with 1 Axes>"
      ]
     },
     "metadata": {},
     "output_type": "display_data"
    }
   ],
   "source": [
    "sns.histplot(x=bank['Salary'])"
   ]
  },
  {
   "cell_type": "code",
   "execution_count": 16,
   "metadata": {},
   "outputs": [],
   "source": [
    "bank['logSalary'] = np.log(bank['Salary'])"
   ]
  },
  {
   "cell_type": "code",
   "execution_count": 17,
   "metadata": {},
   "outputs": [
    {
     "data": {
      "text/plain": [
       "<Axes: xlabel='logSalary', ylabel='Count'>"
      ]
     },
     "execution_count": 17,
     "metadata": {},
     "output_type": "execute_result"
    },
    {
     "data": {
      "image/png": "[encoded data removed]",
      "text/plain": [
       "<Figure size 640x480 with 1 Axes>"
      ]
     },
     "metadata": {},
     "output_type": "display_data"
    }
   ],
   "source": [
    "sns.histplot(x=bank['logSalary'])"
   ]
  },
  {
   "cell_type": "code",
   "execution_count": 19,
   "metadata": {},
   "outputs": [],
   "source": [
    "fitted_data, fitted_lambda = stats.boxcox(bank['Salary'])"
   ]
  },
  {
   "cell_type": "code",
   "execution_count": 20,
   "metadata": {},
   "outputs": [
    {
     "data": {
      "text/plain": [
       "<Axes: ylabel='Count'>"
      ]
     },
     "execution_count": 20,
     "metadata": {},
     "output_type": "execute_result"
    },
    {
     "data": {
      "image/png": "[encoded data removed]",
      "text/plain": [
       "<Figure size 640x480 with 1 Axes>"
      ]
     },
     "metadata": {},
     "output_type": "display_data"
    }
   ],
   "source": [
    "sns.histplot(x=fitted_data)"
   ]
  },
  {
   "cell_type": "code",
   "execution_count": 21,
   "metadata": {},
   "outputs": [
    {
     "data": {
      "text/plain": [
       "-1.7022446799436273"
      ]
     },
     "execution_count": 21,
     "metadata": {},
     "output_type": "execute_result"
    }
   ],
   "source": [
    "fitted_lambda"
   ]
  },
  {
   "cell_type": "markdown",
   "metadata": {},
   "source": [
    "Logging Variables:"
   ]
  },
  {
   "cell_type": "code",
   "execution_count": 24,
   "metadata": {},
   "outputs": [
    {
     "name": "stderr",
     "output_type": "stream",
     "text": [
      "C:\\Users\\blais\\AppData\\Local\\Temp\\ipykernel_43132\\3380745248.py:1: FutureWarning: \n",
      "\n",
      "`shade` is now deprecated in favor of `fill`; setting `fill=True`.\n",
      "This will become an error in seaborn v0.14.0; please update your code.\n",
      "\n",
      "  sns.kdeplot(x=bank['logSalary'],shade=True,linewidth=2);\n"
     ]
    },
    {
     "data": {
      "image/png": "[encoded data removed]",
      "text/plain": [
       "<Figure size 640x480 with 1 Axes>"
      ]
     },
     "metadata": {},
     "output_type": "display_data"
    }
   ],
   "source": [
    "sns.kdeplot(x=bank['logSalary'],shade=True,linewidth=2);"
   ]
  },
  {
   "cell_type": "code",
   "execution_count": 25,
   "metadata": {},
   "outputs": [
    {
     "name": "stderr",
     "output_type": "stream",
     "text": [
      "C:\\Users\\blais\\AppData\\Local\\Temp\\ipykernel_43132\\3375467372.py:1: FutureWarning: \n",
      "\n",
      "`shade` is now deprecated in favor of `fill`; setting `fill=True`.\n",
      "This will become an error in seaborn v0.14.0; please update your code.\n",
      "\n",
      "  sns.kdeplot(x=fitted_data,shade=True,linewidth=2);\n"
     ]
    },
    {
     "data": {
      "image/png": "[encoded data removed]",
      "text/plain": [
       "<Figure size 640x480 with 1 Axes>"
      ]
     },
     "metadata": {},
     "output_type": "display_data"
    }
   ],
   "source": [
    "sns.kdeplot(x=fitted_data,shade=True,linewidth=2);"
   ]
  }
 ],
 "metadata": {
  "kernelspec": {
   "display_name": "Python 3",
   "language": "python",
   "name": "python3"
  },
  "language_info": {
   "codemirror_mode": {
    "name": "ipython",
    "version": 3
   },
   "file_extension": ".py",
   "mimetype": "text/x-python",
   "name": "python",
   "nbconvert_exporter": "python",
   "pygments_lexer": "ipython3",
   "version": "3.12.5"
  }
 },
 "nbformat": 4,
 "nbformat_minor": 2
}
